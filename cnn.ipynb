{
 "cells": [
  {
   "cell_type": "markdown",
   "metadata": {},
   "source": [
    "# 0 Imports"
   ]
  },
  {
   "cell_type": "code",
   "execution_count": 1,
   "metadata": {},
   "outputs": [
    {
     "name": "stdout",
     "output_type": "stream",
     "text": [
      "-----------------------------------------\n",
      "GPU used: /device:GPU:0\n",
      "-----------------------------------------\n",
      "[name: \"/device:CPU:0\"\n",
      "device_type: \"CPU\"\n",
      "memory_limit: 268435456\n",
      "locality {\n",
      "}\n",
      "incarnation: 5084991079782961821\n",
      "xla_global_id: -1\n",
      ", name: \"/device:GPU:0\"\n",
      "device_type: \"GPU\"\n",
      "memory_limit: 3369533440\n",
      "locality {\n",
      "  bus_id: 1\n",
      "  links {\n",
      "  }\n",
      "}\n",
      "incarnation: 3651739767134637225\n",
      "physical_device_desc: \"device: 0, name: Quadro P2000, pci bus id: 0000:01:00.0, compute capability: 6.1\"\n",
      "xla_global_id: 416903419\n",
      "]\n"
     ]
    },
    {
     "name": "stderr",
     "output_type": "stream",
     "text": [
      "2022-02-03 14:55:14.354812: I tensorflow/core/platform/cpu_feature_guard.cc:151] This TensorFlow binary is optimized with oneAPI Deep Neural Network Library (oneDNN) to use the following CPU instructions in performance-critical operations:  AVX2 FMA\n",
      "To enable them in other operations, rebuild TensorFlow with the appropriate compiler flags.\n",
      "2022-02-03 14:55:14.368302: I tensorflow/stream_executor/cuda/cuda_gpu_executor.cc:939] successful NUMA node read from SysFS had negative value (-1), but there must be at least one NUMA node, so returning NUMA node zero\n",
      "2022-02-03 14:55:14.395804: I tensorflow/stream_executor/cuda/cuda_gpu_executor.cc:939] successful NUMA node read from SysFS had negative value (-1), but there must be at least one NUMA node, so returning NUMA node zero\n",
      "2022-02-03 14:55:14.396010: I tensorflow/stream_executor/cuda/cuda_gpu_executor.cc:939] successful NUMA node read from SysFS had negative value (-1), but there must be at least one NUMA node, so returning NUMA node zero\n",
      "2022-02-03 14:55:14.778259: I tensorflow/stream_executor/cuda/cuda_gpu_executor.cc:939] successful NUMA node read from SysFS had negative value (-1), but there must be at least one NUMA node, so returning NUMA node zero\n",
      "2022-02-03 14:55:14.778421: I tensorflow/stream_executor/cuda/cuda_gpu_executor.cc:939] successful NUMA node read from SysFS had negative value (-1), but there must be at least one NUMA node, so returning NUMA node zero\n",
      "2022-02-03 14:55:14.778538: I tensorflow/stream_executor/cuda/cuda_gpu_executor.cc:939] successful NUMA node read from SysFS had negative value (-1), but there must be at least one NUMA node, so returning NUMA node zero\n",
      "2022-02-03 14:55:14.778642: I tensorflow/core/common_runtime/gpu/gpu_device.cc:1525] Created device /device:GPU:0 with 3213 MB memory:  -> device: 0, name: Quadro P2000, pci bus id: 0000:01:00.0, compute capability: 6.1\n",
      "2022-02-03 14:55:14.779267: I tensorflow/stream_executor/cuda/cuda_gpu_executor.cc:939] successful NUMA node read from SysFS had negative value (-1), but there must be at least one NUMA node, so returning NUMA node zero\n",
      "2022-02-03 14:55:14.779389: I tensorflow/stream_executor/cuda/cuda_gpu_executor.cc:939] successful NUMA node read from SysFS had negative value (-1), but there must be at least one NUMA node, so returning NUMA node zero\n",
      "2022-02-03 14:55:14.779496: I tensorflow/stream_executor/cuda/cuda_gpu_executor.cc:939] successful NUMA node read from SysFS had negative value (-1), but there must be at least one NUMA node, so returning NUMA node zero\n",
      "2022-02-03 14:55:14.779626: I tensorflow/stream_executor/cuda/cuda_gpu_executor.cc:939] successful NUMA node read from SysFS had negative value (-1), but there must be at least one NUMA node, so returning NUMA node zero\n",
      "2022-02-03 14:55:14.779737: I tensorflow/stream_executor/cuda/cuda_gpu_executor.cc:939] successful NUMA node read from SysFS had negative value (-1), but there must be at least one NUMA node, so returning NUMA node zero\n",
      "2022-02-03 14:55:14.779818: I tensorflow/core/common_runtime/gpu/gpu_device.cc:1525] Created device /device:GPU:0 with 3213 MB memory:  -> device: 0, name: Quadro P2000, pci bus id: 0000:01:00.0, compute capability: 6.1\n",
      "2022-02-03 14:55:14.780148: I tensorflow/stream_executor/cuda/cuda_gpu_executor.cc:939] successful NUMA node read from SysFS had negative value (-1), but there must be at least one NUMA node, so returning NUMA node zero\n",
      "2022-02-03 14:55:14.780267: I tensorflow/stream_executor/cuda/cuda_gpu_executor.cc:939] successful NUMA node read from SysFS had negative value (-1), but there must be at least one NUMA node, so returning NUMA node zero\n",
      "2022-02-03 14:55:14.780452: I tensorflow/stream_executor/cuda/cuda_gpu_executor.cc:939] successful NUMA node read from SysFS had negative value (-1), but there must be at least one NUMA node, so returning NUMA node zero\n",
      "2022-02-03 14:55:14.780576: I tensorflow/stream_executor/cuda/cuda_gpu_executor.cc:939] successful NUMA node read from SysFS had negative value (-1), but there must be at least one NUMA node, so returning NUMA node zero\n",
      "2022-02-03 14:55:14.780682: I tensorflow/stream_executor/cuda/cuda_gpu_executor.cc:939] successful NUMA node read from SysFS had negative value (-1), but there must be at least one NUMA node, so returning NUMA node zero\n",
      "2022-02-03 14:55:14.780758: I tensorflow/core/common_runtime/gpu/gpu_device.cc:1525] Created device /device:GPU:0 with 3213 MB memory:  -> device: 0, name: Quadro P2000, pci bus id: 0000:01:00.0, compute capability: 6.1\n"
     ]
    }
   ],
   "source": [
    "import os, warnings\n",
    "import shutil\n",
    "from collections import namedtuple\n",
    "import numpy as np\n",
    "import math\n",
    "%matplotlib inline\n",
    "import matplotlib.pyplot as plt\n",
    "from matplotlib import gridspec\n",
    "import seaborn as sns\n",
    "import pandas as pd\n",
    "import json\n",
    "import pickle\n",
    "\n",
    "import tensorflow as tf\n",
    "from tensorflow import keras\n",
    "from tensorflow.keras import layers\n",
    "from tensorflow.keras.callbacks import EarlyStopping, TensorBoard, CSVLogger, ModelCheckpoint, ReduceLROnPlateau\n",
    "from tensorflow.keras.preprocessing import image_dataset_from_directory\n",
    "from tensorflow.keras.preprocessing.image import ImageDataGenerator\n",
    "from tensorflow.keras.applications.xception import Xception\n",
    "from tensorflow.keras.applications.vgg16 import VGG16\n",
    "import keras_tuner as kt\n",
    "\n",
    "import ipywidgets as widgets\n",
    "from ipywidgets import interact, interact_manual\n",
    "\n",
    "from scripts import read_saves, write_saves, record_saves\n",
    "\n",
    "def set_seed(seed=31415):\n",
    "    np.random.seed(seed)\n",
    "    tf.random.set_seed(seed)\n",
    "    os.environ['PYTHONHASHSEED'] = str(seed)\n",
    "    # os.environ['TF_CUDNN_DETERMINISTIC'] = 'true'\n",
    "    # os.environ['TF_DETERMINISTIC_OPS'] = '1'\n",
    "set_seed()\n",
    "\n",
    "plt.rc('figure', autolayout=True)\n",
    "plt.rc('axes', labelweight='bold', labelsize='large',\n",
    "       titleweight='bold', titlesize=18, titlepad=10)\n",
    "plt.rc('image', cmap='magma')\n",
    "warnings.filterwarnings(\"ignore\")\n",
    "\n",
    "print(\"-----------------------------------------\")\n",
    "if tf.test.gpu_device_name():\n",
    "    print(f\"GPU used: {tf.test.gpu_device_name()}\")\n",
    "else:\n",
    "    print(f\"GPU not used\")\n",
    "print(\"-----------------------------------------\")\n",
    "\n",
    "from tensorflow.python.client import device_lib \n",
    "print(device_lib.list_local_devices())"
   ]
  },
  {
   "cell_type": "markdown",
   "metadata": {},
   "source": [
    "***\n",
    "# 1 Config"
   ]
  },
  {
   "cell_type": "code",
   "execution_count": 60,
   "metadata": {},
   "outputs": [],
   "source": [
    "config = {\n",
    "    \"exploration\": False,\n",
    "    \"data_augmentation\": False,\n",
    "    \"custom\": {\n",
    "        \"tune\": False,\n",
    "        \"saved\": True,\n",
    "    },\n",
    "    \"transfer\": {\n",
    "        \"vgg16\": False,\n",
    "        \"xception\": False\n",
    "    }\n",
    "}"
   ]
  },
  {
   "cell_type": "code",
   "execution_count": 3,
   "metadata": {},
   "outputs": [],
   "source": [
    "annotations_dir = \"data/Annotations\"\n",
    "images_dir = \"data/Images\"\n",
    "target_dir = \"data/Targets\"\n",
    "batch_size = 16\n",
    "\n",
    "SAVE_PATH = \"data/saves.pkl\"\n",
    "SAVE_NB = 5"
   ]
  },
  {
   "cell_type": "markdown",
   "metadata": {},
   "source": [
    "***\n",
    "# 2 Dataset exploration"
   ]
  },
  {
   "cell_type": "markdown",
   "metadata": {},
   "source": [
    "## 2.0 Utils"
   ]
  },
  {
   "cell_type": "code",
   "execution_count": 4,
   "metadata": {},
   "outputs": [],
   "source": [
    "def convert_to_float(image, label):\n",
    "    image = tf.image.convert_image_dtype(image, dtype=tf.float32)\n",
    "    return image, label"
   ]
  },
  {
   "cell_type": "code",
   "execution_count": 5,
   "metadata": {},
   "outputs": [],
   "source": [
    "def breeds_distribution(dataset, figsize=(25, 5), display_mean=True):\n",
    "    plt.figure(figsize=figsize)\n",
    "\n",
    "    sns.barplot(x=fre_df[\"Breed\"], y=fre_df[\"Population\"])\n",
    "\n",
    "    if display_mean:\n",
    "        mean = fre_df.mean(axis=0)[0]\n",
    "        plt.axhline(mean, linestyle=\"--\", linewidth=1, color=\"r\")\n",
    "\n",
    "    plt.title(\"Breeds distribution\", size=20)\n",
    "    plt.xticks(size=10, rotation=45, ha=\"right\")\n",
    "    plt.yticks(size=10)\n",
    "    plt.ylabel(\"Count\", size=16)\n",
    "\n",
    "    if display_mean:\n",
    "        return mean"
   ]
  },
  {
   "cell_type": "markdown",
   "metadata": {},
   "source": [
    "***\n",
    "## 2.1 Breeds distribution"
   ]
  },
  {
   "cell_type": "markdown",
   "metadata": {},
   "source": [
    "How many breeds are present in the dataset ?"
   ]
  },
  {
   "cell_type": "code",
   "execution_count": 6,
   "metadata": {},
   "outputs": [
    {
     "name": "stdout",
     "output_type": "stream",
     "text": [
      "There is 120 different dog breeds\n"
     ]
    }
   ],
   "source": [
    "breed_subdir = os.listdir(images_dir)\n",
    "print(f\"There is {len(breed_subdir)} different dog breeds\")"
   ]
  },
  {
   "cell_type": "markdown",
   "metadata": {},
   "source": [
    "Construct a pandas dataset with all breeds and each of their respective population"
   ]
  },
  {
   "cell_type": "code",
   "execution_count": 7,
   "metadata": {},
   "outputs": [
    {
     "data": {
      "text/html": [
       "<div>\n",
       "<style scoped>\n",
       "    .dataframe tbody tr th:only-of-type {\n",
       "        vertical-align: middle;\n",
       "    }\n",
       "\n",
       "    .dataframe tbody tr th {\n",
       "        vertical-align: top;\n",
       "    }\n",
       "\n",
       "    .dataframe thead th {\n",
       "        text-align: right;\n",
       "    }\n",
       "</style>\n",
       "<table border=\"1\" class=\"dataframe\">\n",
       "  <thead>\n",
       "    <tr style=\"text-align: right;\">\n",
       "      <th></th>\n",
       "      <th>Breed_full</th>\n",
       "      <th>Breed</th>\n",
       "      <th>Population</th>\n",
       "    </tr>\n",
       "  </thead>\n",
       "  <tbody>\n",
       "    <tr>\n",
       "      <th>0</th>\n",
       "      <td>n02111889-Samoyed</td>\n",
       "      <td>Samoyed</td>\n",
       "      <td>218</td>\n",
       "    </tr>\n",
       "    <tr>\n",
       "      <th>1</th>\n",
       "      <td>n02105641-Old_English_sheepdog</td>\n",
       "      <td>Old_English_sheepdog</td>\n",
       "      <td>169</td>\n",
       "    </tr>\n",
       "    <tr>\n",
       "      <th>2</th>\n",
       "      <td>n02107908-Appenzeller</td>\n",
       "      <td>Appenzeller</td>\n",
       "      <td>151</td>\n",
       "    </tr>\n",
       "    <tr>\n",
       "      <th>3</th>\n",
       "      <td>n02100583-vizsla</td>\n",
       "      <td>vizsla</td>\n",
       "      <td>154</td>\n",
       "    </tr>\n",
       "    <tr>\n",
       "      <th>4</th>\n",
       "      <td>n02097298-Scotch_terrier</td>\n",
       "      <td>Scotch_terrier</td>\n",
       "      <td>158</td>\n",
       "    </tr>\n",
       "  </tbody>\n",
       "</table>\n",
       "</div>"
      ],
      "text/plain": [
       "                       Breed_full                 Breed  Population\n",
       "0               n02111889-Samoyed               Samoyed         218\n",
       "1  n02105641-Old_English_sheepdog  Old_English_sheepdog         169\n",
       "2           n02107908-Appenzeller           Appenzeller         151\n",
       "3                n02100583-vizsla                vizsla         154\n",
       "4        n02097298-Scotch_terrier        Scotch_terrier         158"
      ]
     },
     "execution_count": 7,
     "metadata": {},
     "output_type": "execute_result"
    }
   ],
   "source": [
    "breed_full: list = []\n",
    "breed: list = []\n",
    "population: list = []\n",
    "\n",
    "for sub_d in breed_subdir:\n",
    "    breed_full.append(sub_d)\n",
    "    breed.append(sub_d.split(\"-\")[1])\n",
    "    population.append(len([obs for obs in os.listdir(images_dir + \"/\" + sub_d)]))\n",
    "\n",
    "fre_df = pd.DataFrame(data={\"Breed_full\": breed_full, \"Breed\": breed, \"Population\": population})\n",
    "fre_df.head()"
   ]
  },
  {
   "cell_type": "markdown",
   "metadata": {},
   "source": [
    "Plot the breeds populations and the mean"
   ]
  },
  {
   "cell_type": "code",
   "execution_count": 8,
   "metadata": {},
   "outputs": [],
   "source": [
    "if config[\"exploration\"]:\n",
    "    mean = breeds_distribution(fre_df)"
   ]
  },
  {
   "cell_type": "markdown",
   "metadata": {},
   "source": [
    "Let's plot again bu after a sort on Population field"
   ]
  },
  {
   "cell_type": "code",
   "execution_count": 9,
   "metadata": {},
   "outputs": [],
   "source": [
    "if config[\"exploration\"]:\n",
    "    fre_df.sort_values(by=\"Population\", inplace=True, ascending=False, axis=0)\n",
    "    mean = breeds_distribution(fre_df)"
   ]
  },
  {
   "cell_type": "markdown",
   "metadata": {},
   "source": [
    "Let's take a look at the top three breeds, see if they are sufficiently differents."
   ]
  },
  {
   "cell_type": "code",
   "execution_count": 10,
   "metadata": {},
   "outputs": [],
   "source": [
    "if config[\"exploration\"]:\n",
    "\n",
    "    fix, axs = plt.subplots(3, 3, figsize=(20, 10))\n",
    "    plt.subplots_adjust(wspace=0.1, hspace=0.1)\n",
    "\n",
    "    # Malteses\n",
    "    plt.subplot(3, 3, 1)\n",
    "    image = tf.io.read_file(\"data/Images/n02085936-Maltese_dog/n02085936_37.jpg\")\n",
    "    image = tf.io.decode_jpeg(image, channels=3)\n",
    "    img = tf.squeeze(image).numpy()\n",
    "    plt.imshow(img)\n",
    "    plt.axis('off')\n",
    "\n",
    "    plt.subplot(3, 3, 2)\n",
    "    image = tf.io.read_file(\"data/Images/n02085936-Maltese_dog/n02085936_66.jpg\")\n",
    "    image = tf.io.decode_jpeg(image, channels=3)\n",
    "    img = tf.squeeze(image).numpy()\n",
    "    plt.imshow(img)\n",
    "    plt.axis('off')\n",
    "\n",
    "    plt.subplot(3, 3, 3)\n",
    "    image = tf.io.read_file(\"data/Images/n02085936-Maltese_dog/n02085936_233.jpg\")\n",
    "    image = tf.io.decode_jpeg(image, channels=3)\n",
    "    img = tf.squeeze(image).numpy()\n",
    "    plt.imshow(img)\n",
    "    plt.axis('off')\n",
    "\n",
    "    # Afghan\n",
    "    plt.subplot(3, 3, 4)\n",
    "    image = tf.io.read_file(\"data/Images/n02088094-Afghan_hound/n02088094_231.jpg\")\n",
    "    image = tf.io.decode_jpeg(image, channels=3)\n",
    "    img = tf.squeeze(image).numpy()\n",
    "    plt.imshow(img)\n",
    "    plt.axis('off')\n",
    "\n",
    "    plt.subplot(3, 3, 5)\n",
    "    image = tf.io.read_file(\"data/Images/n02088094-Afghan_hound/n02088094_251.jpg\")\n",
    "    image = tf.io.decode_jpeg(image, channels=3)\n",
    "    img = tf.squeeze(image).numpy()\n",
    "    plt.imshow(img)\n",
    "    plt.axis('off')\n",
    "\n",
    "    plt.subplot(3, 3, 6)\n",
    "    image = tf.io.read_file(\"data/Images/n02088094-Afghan_hound/n02088094_272.jpg\")\n",
    "    image = tf.io.decode_jpeg(image, channels=3)\n",
    "    img = tf.squeeze(image).numpy()\n",
    "    plt.imshow(img)\n",
    "    plt.axis('off')\n",
    "\n",
    "    # Scottish deerhound\n",
    "    plt.subplot(3, 3, 7)\n",
    "    image = tf.io.read_file(\"data/Images/n02092002-Scottish_deerhound/n02092002_3.jpg\")\n",
    "    image = tf.io.decode_jpeg(image, channels=3)\n",
    "    img = tf.squeeze(image).numpy()\n",
    "    plt.imshow(img)\n",
    "    plt.axis('off')\n",
    "\n",
    "    plt.subplot(3, 3, 8)\n",
    "    image = tf.io.read_file(\"data/Images/n02092002-Scottish_deerhound/n02092002_198.jpg\")\n",
    "    image = tf.io.decode_jpeg(image, channels=3)\n",
    "    img = tf.squeeze(image).numpy()\n",
    "    plt.imshow(img)\n",
    "    plt.axis('off')\n",
    "\n",
    "    plt.subplot(3, 3, 9)\n",
    "    image = tf.io.read_file(\"data/Images/n02092002-Scottish_deerhound/n02092002_86.jpg\")\n",
    "    image = tf.io.decode_jpeg(image, channels=3)\n",
    "    img = tf.squeeze(image).numpy()\n",
    "    plt.imshow(img)\n",
    "    plt.axis('off')"
   ]
  },
  {
   "cell_type": "markdown",
   "metadata": {},
   "source": [
    "We can see that the images don't have the same size"
   ]
  },
  {
   "cell_type": "code",
   "execution_count": 11,
   "metadata": {},
   "outputs": [
    {
     "data": {
      "text/html": [
       "<div>\n",
       "<style scoped>\n",
       "    .dataframe tbody tr th:only-of-type {\n",
       "        vertical-align: middle;\n",
       "    }\n",
       "\n",
       "    .dataframe tbody tr th {\n",
       "        vertical-align: top;\n",
       "    }\n",
       "\n",
       "    .dataframe thead th {\n",
       "        text-align: right;\n",
       "    }\n",
       "</style>\n",
       "<table border=\"1\" class=\"dataframe\">\n",
       "  <thead>\n",
       "    <tr style=\"text-align: right;\">\n",
       "      <th></th>\n",
       "      <th>Breed_full</th>\n",
       "      <th>Breed</th>\n",
       "      <th>Population</th>\n",
       "    </tr>\n",
       "  </thead>\n",
       "  <tbody>\n",
       "    <tr>\n",
       "      <th>0</th>\n",
       "      <td>n02111889-Samoyed</td>\n",
       "      <td>Samoyed</td>\n",
       "      <td>218</td>\n",
       "    </tr>\n",
       "    <tr>\n",
       "      <th>1</th>\n",
       "      <td>n02105641-Old_English_sheepdog</td>\n",
       "      <td>Old_English_sheepdog</td>\n",
       "      <td>169</td>\n",
       "    </tr>\n",
       "    <tr>\n",
       "      <th>2</th>\n",
       "      <td>n02107908-Appenzeller</td>\n",
       "      <td>Appenzeller</td>\n",
       "      <td>151</td>\n",
       "    </tr>\n",
       "    <tr>\n",
       "      <th>3</th>\n",
       "      <td>n02100583-vizsla</td>\n",
       "      <td>vizsla</td>\n",
       "      <td>154</td>\n",
       "    </tr>\n",
       "    <tr>\n",
       "      <th>4</th>\n",
       "      <td>n02097298-Scotch_terrier</td>\n",
       "      <td>Scotch_terrier</td>\n",
       "      <td>158</td>\n",
       "    </tr>\n",
       "    <tr>\n",
       "      <th>5</th>\n",
       "      <td>n02109525-Saint_Bernard</td>\n",
       "      <td>Saint_Bernard</td>\n",
       "      <td>170</td>\n",
       "    </tr>\n",
       "    <tr>\n",
       "      <th>6</th>\n",
       "      <td>n02088466-bloodhound</td>\n",
       "      <td>bloodhound</td>\n",
       "      <td>187</td>\n",
       "    </tr>\n",
       "    <tr>\n",
       "      <th>7</th>\n",
       "      <td>n02094433-Yorkshire_terrier</td>\n",
       "      <td>Yorkshire_terrier</td>\n",
       "      <td>164</td>\n",
       "    </tr>\n",
       "    <tr>\n",
       "      <th>8</th>\n",
       "      <td>n02086079-Pekinese</td>\n",
       "      <td>Pekinese</td>\n",
       "      <td>149</td>\n",
       "    </tr>\n",
       "    <tr>\n",
       "      <th>9</th>\n",
       "      <td>n02097130-giant_schnauzer</td>\n",
       "      <td>giant_schnauzer</td>\n",
       "      <td>157</td>\n",
       "    </tr>\n",
       "  </tbody>\n",
       "</table>\n",
       "</div>"
      ],
      "text/plain": [
       "                       Breed_full                 Breed  Population\n",
       "0               n02111889-Samoyed               Samoyed         218\n",
       "1  n02105641-Old_English_sheepdog  Old_English_sheepdog         169\n",
       "2           n02107908-Appenzeller           Appenzeller         151\n",
       "3                n02100583-vizsla                vizsla         154\n",
       "4        n02097298-Scotch_terrier        Scotch_terrier         158\n",
       "5         n02109525-Saint_Bernard         Saint_Bernard         170\n",
       "6            n02088466-bloodhound            bloodhound         187\n",
       "7     n02094433-Yorkshire_terrier     Yorkshire_terrier         164\n",
       "8              n02086079-Pekinese              Pekinese         149\n",
       "9       n02097130-giant_schnauzer       giant_schnauzer         157"
      ]
     },
     "execution_count": 11,
     "metadata": {},
     "output_type": "execute_result"
    }
   ],
   "source": [
    "fre_df = fre_df.iloc[:10,:]\n",
    "fre_df"
   ]
  },
  {
   "cell_type": "code",
   "execution_count": 12,
   "metadata": {},
   "outputs": [
    {
     "data": {
      "text/plain": [
       "['Samoyed',\n",
       " 'Old_English_sheepdog',\n",
       " 'Appenzeller',\n",
       " 'vizsla',\n",
       " 'Scotch_terrier',\n",
       " 'Saint_Bernard',\n",
       " 'bloodhound',\n",
       " 'Yorkshire_terrier',\n",
       " 'Pekinese',\n",
       " 'giant_schnauzer']"
      ]
     },
     "execution_count": 12,
     "metadata": {},
     "output_type": "execute_result"
    }
   ],
   "source": [
    "fre_df[\"Breed\"].values.tolist()"
   ]
  },
  {
   "cell_type": "code",
   "execution_count": 13,
   "metadata": {},
   "outputs": [],
   "source": [
    "# with open(\"data/brees.list\", \"wb\") as stream:\n",
    "#     breed_list = fre_df[\"Breed\"].values.tolist()\n",
    "#     pickle.dump(breed_list, stream)"
   ]
  },
  {
   "cell_type": "markdown",
   "metadata": {},
   "source": [
    "***\n",
    "# 3 Dataset preparation"
   ]
  },
  {
   "cell_type": "markdown",
   "metadata": {},
   "source": [
    "## 3.0 Utils"
   ]
  },
  {
   "cell_type": "code",
   "execution_count": 14,
   "metadata": {},
   "outputs": [],
   "source": [
    "def sync_dataset_directory(breeds: list, source_dir: str = \"data/Images\", target_dir: str = \"data/Targets\"):\n",
    "    if os.path.exists(target_dir):\n",
    "        shutil.rmtree(target_dir)\n",
    "    os.mkdir(target_dir)\n",
    "    for breed in breeds:\n",
    "        source = source_dir + \"/\" + breed\n",
    "        target = target_dir + \"/\" + breed\n",
    "        shutil.copytree(source, target)"
   ]
  },
  {
   "cell_type": "markdown",
   "metadata": {},
   "source": [
    "***\n",
    "## 3.1 Without augmentation"
   ]
  },
  {
   "cell_type": "code",
   "execution_count": 15,
   "metadata": {},
   "outputs": [
    {
     "name": "stdout",
     "output_type": "stream",
     "text": [
      "Found 1677 files belonging to 10 classes.\n",
      "Using 336 files for training.\n",
      "Found 1677 files belonging to 10 classes.\n",
      "Using 335 files for validation.\n"
     ]
    },
    {
     "name": "stderr",
     "output_type": "stream",
     "text": [
      "2022-02-03 14:55:15.296464: I tensorflow/stream_executor/cuda/cuda_gpu_executor.cc:939] successful NUMA node read from SysFS had negative value (-1), but there must be at least one NUMA node, so returning NUMA node zero\n",
      "2022-02-03 14:55:15.296648: I tensorflow/stream_executor/cuda/cuda_gpu_executor.cc:939] successful NUMA node read from SysFS had negative value (-1), but there must be at least one NUMA node, so returning NUMA node zero\n",
      "2022-02-03 14:55:15.296759: I tensorflow/stream_executor/cuda/cuda_gpu_executor.cc:939] successful NUMA node read from SysFS had negative value (-1), but there must be at least one NUMA node, so returning NUMA node zero\n",
      "2022-02-03 14:55:15.297032: I tensorflow/stream_executor/cuda/cuda_gpu_executor.cc:939] successful NUMA node read from SysFS had negative value (-1), but there must be at least one NUMA node, so returning NUMA node zero\n",
      "2022-02-03 14:55:15.297152: I tensorflow/stream_executor/cuda/cuda_gpu_executor.cc:939] successful NUMA node read from SysFS had negative value (-1), but there must be at least one NUMA node, so returning NUMA node zero\n",
      "2022-02-03 14:55:15.297259: I tensorflow/stream_executor/cuda/cuda_gpu_executor.cc:939] successful NUMA node read from SysFS had negative value (-1), but there must be at least one NUMA node, so returning NUMA node zero\n",
      "2022-02-03 14:55:15.297406: I tensorflow/stream_executor/cuda/cuda_gpu_executor.cc:939] successful NUMA node read from SysFS had negative value (-1), but there must be at least one NUMA node, so returning NUMA node zero\n",
      "2022-02-03 14:55:15.297520: I tensorflow/stream_executor/cuda/cuda_gpu_executor.cc:939] successful NUMA node read from SysFS had negative value (-1), but there must be at least one NUMA node, so returning NUMA node zero\n",
      "2022-02-03 14:55:15.297604: I tensorflow/core/common_runtime/gpu/gpu_device.cc:1525] Created device /job:localhost/replica:0/task:0/device:GPU:0 with 3213 MB memory:  -> device: 0, name: Quadro P2000, pci bus id: 0000:01:00.0, compute capability: 6.1\n"
     ]
    }
   ],
   "source": [
    "if not config[\"data_augmentation\"]:\n",
    "\n",
    "    sync_dataset_directory(fre_df[\"Breed_full\"])\n",
    "\n",
    "    ds_train_ = image_dataset_from_directory(\n",
    "        target_dir,\n",
    "        labels=\"inferred\",\n",
    "        label_mode=\"categorical\",\n",
    "        image_size=[224, 224],\n",
    "        interpolation=\"nearest\",\n",
    "        batch_size=16,\n",
    "        seed=0,\n",
    "        shuffle=True,\n",
    "        validation_split=0.8,\n",
    "        subset=\"training\"\n",
    "    )\n",
    "\n",
    "    ds_valid_ = image_dataset_from_directory(\n",
    "        target_dir,\n",
    "        labels=\"inferred\",\n",
    "        label_mode=\"categorical\",\n",
    "        image_size=[224, 224],\n",
    "        interpolation=\"nearest\",\n",
    "        batch_size=4,\n",
    "        seed=0,\n",
    "        shuffle=True,\n",
    "        validation_split=0.2,\n",
    "        subset=\"validation\"\n",
    "    )\n",
    "\n",
    "    AUTOTUNE = tf.data.experimental.AUTOTUNE\n",
    "    ds_train = (\n",
    "        ds_train_\n",
    "        .map(convert_to_float)\n",
    "        .cache()\n",
    "        .prefetch(buffer_size=AUTOTUNE)\n",
    "    )\n",
    "    ds_valid = (\n",
    "        ds_valid_\n",
    "        .map(convert_to_float)\n",
    "        .cache()\n",
    "        .prefetch(buffer_size=AUTOTUNE)\n",
    "    )\n",
    "\n",
    "    labels = []\n",
    "    for label in ds_train_.class_names:\n",
    "        labels.append(label.split(\"-\")[1])\n",
    "    \n",
    "    with open(\"data/labels.list\", \"wb\") as stream:\n",
    "        pickle.dump(labels, stream)"
   ]
  },
  {
   "cell_type": "markdown",
   "metadata": {},
   "source": [
    "***\n",
    "## 3.2 With augmentation"
   ]
  },
  {
   "cell_type": "code",
   "execution_count": 16,
   "metadata": {},
   "outputs": [],
   "source": [
    "if config[\"data_augmentation\"]:\n",
    "\n",
    "    sync_dataset_directory(fre_df[\"Breed_full\"])\n",
    "\n",
    "    train_datagen = ImageDataGenerator(\n",
    "        featurewise_center=True,\n",
    "        featurewise_std_normalization=True,\n",
    "        zca_whitening=True,\n",
    "        brightness_range=(0.3, 0.7),\n",
    "        rotation_range=40,\n",
    "        width_shift_range=0.2,\n",
    "        height_shift_range=0.2,\n",
    "        horizontal_flip=True,\n",
    "        vertical_flip=True,\n",
    "        shear_range=0.2,\n",
    "        zoom_range=0.5,\n",
    "        rescale=1./224,\n",
    "        validation_split=0.2,\n",
    "        )\n",
    "\n",
    "    valid_datagen = ImageDataGenerator(\n",
    "        rescale=1./224,\n",
    "        validation_split=0.2,\n",
    "        )\n",
    "\n",
    "    train_aug = train_datagen.flow_from_directory(\n",
    "        target_dir,\n",
    "        target_size=(224, 224),\n",
    "        subset=\"training\",\n",
    "        batch_size=16,\n",
    "        shuffle=True,\n",
    "        # save_to_dir=\"data/Augs\",\n",
    "        )\n",
    "\n",
    "    val_aug = valid_datagen.flow_from_directory(\n",
    "        target_dir,\n",
    "        target_size=(224, 224),\n",
    "        subset=\"validation\",\n",
    "        batch_size=4,\n",
    "        shuffle=True\n",
    "        )"
   ]
  },
  {
   "cell_type": "markdown",
   "metadata": {},
   "source": [
    "***\n",
    "# 4 Custom CNN"
   ]
  },
  {
   "cell_type": "markdown",
   "metadata": {},
   "source": [
    "## 4.0 Utils"
   ]
  },
  {
   "cell_type": "code",
   "execution_count": 17,
   "metadata": {},
   "outputs": [],
   "source": [
    "def visualize_history(history, figsize=(20, 10), metrics: str = \"categorical_accuracy\"):\n",
    "    fix, axs = plt.subplots(2, 1, figsize=figsize, sharex=True)\n",
    "\n",
    "    plt.subplot(2, 1, 1)\n",
    "    plt.title(\"Loss\")\n",
    "    sns.lineplot(data=history, x=history.index, y=\"loss\", label=\"loss\")\n",
    "    sns.lineplot(data=history, x=history.index, y=\"val_loss\", label=\"val_loss\")\n",
    "    plt.xlabel(\"epochs\")\n",
    "    plt.tick_params(labelright=True)\n",
    "    plt.legend()\n",
    "    plt.grid()\n",
    "\n",
    "    plt.subplot(2, 1, 2)\n",
    "    plt.title(\"Accuracy\")\n",
    "    sns.lineplot(data=history, x=history.index, y=metrics, label=metrics)\n",
    "    sns.lineplot(data=history, x=history.index, y=\"val_\" + metrics, label=\"val_\" + metrics)\n",
    "    plt.xlabel(\"epochs\")\n",
    "    plt.tick_params(labelright=True)\n",
    "    plt.legend()\n",
    "    plt.grid()"
   ]
  },
  {
   "cell_type": "markdown",
   "metadata": {},
   "source": [
    "***\n",
    "## 4.1 Neural Network"
   ]
  },
  {
   "cell_type": "markdown",
   "metadata": {},
   "source": [
    "### 4.1.1 Model tuning"
   ]
  },
  {
   "cell_type": "code",
   "execution_count": 18,
   "metadata": {},
   "outputs": [],
   "source": [
    "if config[\"custom\"][\"tune\"]:\n",
    "\n",
    "    def build_model(hp):\n",
    "        kernel_size = hp.Choice(\"kernel_size\", [2, 3])\n",
    "        pool_size = hp.Choice(\"pool_size\", [2, 3, 4])\n",
    "\n",
    "        model = keras.Sequential()\n",
    "        model.add(\n",
    "            layers.InputLayer(\n",
    "                input_shape=[224, 224, 3]\n",
    "            )\n",
    "        )\n",
    "\n",
    "        # >>> base <<<\n",
    "        # > block 1 <\n",
    "        model.add(\n",
    "            layers.Conv2D(\n",
    "                filters=hp.Choice(\"block_1_conv_1___filters\", [16, 32, 64]),\n",
    "                kernel_size=kernel_size,\n",
    "                padding=\"same\",\n",
    "            )\n",
    "        )\n",
    "        model.add(\n",
    "            layers.BatchNormalization()\n",
    "        )\n",
    "        model.add(\n",
    "            layers.Dropout(rate=hp.Float(\"block_1_dropout_1\", min_value=0, max_value=0.5, step=0.1))\n",
    "        )\n",
    "        model.add(\n",
    "            layers.Activation(\n",
    "                activation=\"relu\"\n",
    "                )\n",
    "        )\n",
    "        model.add(\n",
    "            layers.MaxPool2D(\n",
    "                pool_size=pool_size,\n",
    "                padding=\"same\"\n",
    "            )\n",
    "        )\n",
    "        # > block 1: end <\n",
    "\n",
    "        # > block 2 <\n",
    "        model.add(\n",
    "            layers.Conv2D(\n",
    "                filters=hp.Choice(\"block_2_conv_1___filters\", [16, 32, 64]),\n",
    "                kernel_size=kernel_size,\n",
    "                padding=\"same\",\n",
    "            )\n",
    "        )\n",
    "        model.add(\n",
    "            layers.BatchNormalization()\n",
    "        )\n",
    "        model.add(\n",
    "            layers.Dropout(rate=hp.Float(\"block_2_dropout_1\", min_value=0, max_value=0.5, step=0.1))\n",
    "        )\n",
    "        model.add(\n",
    "            layers.Activation(\n",
    "                activation=\"relu\"\n",
    "                )\n",
    "        )\n",
    "        model.add(\n",
    "            layers.MaxPool2D(\n",
    "                pool_size=pool_size,\n",
    "                padding=\"same\"\n",
    "            )\n",
    "        )\n",
    "        # > block 2: end <\n",
    "\n",
    "        # > block 3 <\n",
    "        model.add(\n",
    "            layers.Conv2D(\n",
    "                filters=hp.Choice(\"block_3_conv_1___filters\", [16, 32, 64]),\n",
    "                kernel_size=kernel_size,\n",
    "                padding=\"same\",\n",
    "            )\n",
    "        )\n",
    "        model.add(\n",
    "            layers.BatchNormalization()\n",
    "        )\n",
    "        model.add(\n",
    "            layers.Dropout(rate=hp.Float(\"block_3_dropout_1\", min_value=0, max_value=0.5, step=0.1))\n",
    "        )\n",
    "        model.add(\n",
    "            layers.Activation(\n",
    "                activation=\"relu\"\n",
    "                )\n",
    "        )\n",
    "        model.add(\n",
    "            layers.MaxPool2D(\n",
    "                pool_size=pool_size,\n",
    "                padding=\"same\"\n",
    "            )\n",
    "        )\n",
    "        # > block 3: end <\n",
    "        # >>> base: end <<<\n",
    "\n",
    "        # >>> head <<<\n",
    "        model.add(\n",
    "            layers.Flatten()\n",
    "        )\n",
    "        model.add(\n",
    "            layers.Dense(\n",
    "                units=hp.Choice(\"head_dense_2__units\", [16, 32, 64, 128, 256]),\n",
    "                activation=\"relu\"\n",
    "            )\n",
    "        )\n",
    "        model.add(\n",
    "            layers.Dropout(\n",
    "                rate=hp.Float(\"head_dropout_2__rate\", min_value=0, max_value=0.5, step=0.1),\n",
    "            )\n",
    "        )\n",
    "        model.add(\n",
    "            layers.Dense(\n",
    "                units=fre_df.shape[0],\n",
    "                activation=\"softmax\"\n",
    "            )\n",
    "        )\n",
    "        # >>> head: end <<<\n",
    "\n",
    "        # model.summary()\n",
    "\n",
    "        model.compile(\n",
    "            optimizer=\"adam\",\n",
    "            loss=\"categorical_crossentropy\",\n",
    "            metrics=[\"categorical_accuracy\"]\n",
    "        )\n",
    "\n",
    "        return model"
   ]
  },
  {
   "cell_type": "code",
   "execution_count": 19,
   "metadata": {},
   "outputs": [
    {
     "name": "stdout",
     "output_type": "stream",
     "text": [
      "Trial 20 Complete [00h 01m 29s]\n",
      "val_loss: 2.2473483085632324\n",
      "\n",
      "Best val_loss So Far: 2.2473483085632324\n",
      "Total elapsed time: 00h 45m 35s\n",
      "INFO:tensorflow:Oracle triggered exit\n",
      "Search space summary\n",
      "Default search space size: 10\n",
      "kernel_size (Choice)\n",
      "{'default': 2, 'conditions': [], 'values': [2, 3], 'ordered': True}\n",
      "pool_size (Choice)\n",
      "{'default': 2, 'conditions': [], 'values': [2, 3, 4], 'ordered': True}\n",
      "block_1_conv_1___filters (Choice)\n",
      "{'default': 16, 'conditions': [], 'values': [16, 32, 64], 'ordered': True}\n",
      "block_1_dropout_1 (Float)\n",
      "{'default': 0.0, 'conditions': [], 'min_value': 0.0, 'max_value': 0.5, 'step': 0.1, 'sampling': None}\n",
      "block_2_conv_1___filters (Choice)\n",
      "{'default': 16, 'conditions': [], 'values': [16, 32, 64], 'ordered': True}\n",
      "block_2_dropout_1 (Float)\n",
      "{'default': 0.0, 'conditions': [], 'min_value': 0.0, 'max_value': 0.5, 'step': 0.1, 'sampling': None}\n",
      "block_3_conv_1___filters (Choice)\n",
      "{'default': 16, 'conditions': [], 'values': [16, 32, 64], 'ordered': True}\n",
      "block_3_dropout_1 (Float)\n",
      "{'default': 0.0, 'conditions': [], 'min_value': 0.0, 'max_value': 0.5, 'step': 0.1, 'sampling': None}\n",
      "head_dense_2__units (Choice)\n",
      "{'default': 16, 'conditions': [], 'values': [16, 32, 64, 128, 256], 'ordered': True}\n",
      "head_dropout_2__rate (Float)\n",
      "{'default': 0.0, 'conditions': [], 'min_value': 0.0, 'max_value': 0.5, 'step': 0.1, 'sampling': None}\n"
     ]
    }
   ],
   "source": [
    "if config[\"custom\"][\"tune\"]:\n",
    "\n",
    "    tuner = kt.RandomSearch(\n",
    "        build_model,\n",
    "        objective=\"val_loss\",\n",
    "        max_trials=20,\n",
    "        executions_per_trial=3,\n",
    "        overwrite=True,\n",
    "        directory=\"keras-tuner\",\n",
    "        project_name=\"custom-cnn\"\n",
    "    )\n",
    "\n",
    "    tuner.search(\n",
    "        ds_train,\n",
    "        validation_data=ds_valid,\n",
    "        epochs=20,\n",
    "        workers=8,\n",
    "    )\n",
    "\n",
    "    tuner.search_space_summary()"
   ]
  },
  {
   "cell_type": "code",
   "execution_count": 20,
   "metadata": {},
   "outputs": [
    {
     "name": "stdout",
     "output_type": "stream",
     "text": [
      "Results summary\n",
      "Results in keras-tuner/custom-cnn\n",
      "Showing 10 best trials\n",
      "Objective(name='val_loss', direction='min')\n",
      "Trial summary\n",
      "Hyperparameters:\n",
      "kernel_size: 3\n",
      "pool_size: 3\n",
      "block_1_conv_1___filters: 16\n",
      "block_1_dropout_1: 0.1\n",
      "block_2_conv_1___filters: 32\n",
      "block_2_dropout_1: 0.30000000000000004\n",
      "block_3_conv_1___filters: 64\n",
      "block_3_dropout_1: 0.1\n",
      "head_dense_2__units: 128\n",
      "head_dropout_2__rate: 0.30000000000000004\n",
      "Score: 2.2473483085632324\n",
      "Trial summary\n",
      "Hyperparameters:\n",
      "kernel_size: 3\n",
      "pool_size: 3\n",
      "block_1_conv_1___filters: 16\n",
      "block_1_dropout_1: 0.0\n",
      "block_2_conv_1___filters: 64\n",
      "block_2_dropout_1: 0.1\n",
      "block_3_conv_1___filters: 64\n",
      "block_3_dropout_1: 0.30000000000000004\n",
      "head_dense_2__units: 128\n",
      "head_dropout_2__rate: 0.30000000000000004\n",
      "Score: 2.285663684209188\n",
      "Trial summary\n",
      "Hyperparameters:\n",
      "kernel_size: 3\n",
      "pool_size: 3\n",
      "block_1_conv_1___filters: 16\n",
      "block_1_dropout_1: 0.2\n",
      "block_2_conv_1___filters: 32\n",
      "block_2_dropout_1: 0.0\n",
      "block_3_conv_1___filters: 32\n",
      "block_3_dropout_1: 0.2\n",
      "head_dense_2__units: 256\n",
      "head_dropout_2__rate: 0.30000000000000004\n",
      "Score: 2.2874345779418945\n",
      "Trial summary\n",
      "Hyperparameters:\n",
      "kernel_size: 2\n",
      "pool_size: 3\n",
      "block_1_conv_1___filters: 32\n",
      "block_1_dropout_1: 0.5\n",
      "block_2_conv_1___filters: 32\n",
      "block_2_dropout_1: 0.2\n",
      "block_3_conv_1___filters: 16\n",
      "block_3_dropout_1: 0.4\n",
      "head_dense_2__units: 16\n",
      "head_dropout_2__rate: 0.0\n",
      "Score: 2.2901229858398438\n",
      "Trial summary\n",
      "Hyperparameters:\n",
      "kernel_size: 3\n",
      "pool_size: 3\n",
      "block_1_conv_1___filters: 64\n",
      "block_1_dropout_1: 0.2\n",
      "block_2_conv_1___filters: 64\n",
      "block_2_dropout_1: 0.30000000000000004\n",
      "block_3_conv_1___filters: 64\n",
      "block_3_dropout_1: 0.1\n",
      "head_dense_2__units: 256\n",
      "head_dropout_2__rate: 0.4\n",
      "Score: 2.293939749399821\n",
      "Trial summary\n",
      "Hyperparameters:\n",
      "kernel_size: 2\n",
      "pool_size: 4\n",
      "block_1_conv_1___filters: 16\n",
      "block_1_dropout_1: 0.1\n",
      "block_2_conv_1___filters: 32\n",
      "block_2_dropout_1: 0.4\n",
      "block_3_conv_1___filters: 16\n",
      "block_3_dropout_1: 0.4\n",
      "head_dense_2__units: 256\n",
      "head_dropout_2__rate: 0.4\n",
      "Score: 2.294462045033773\n",
      "Trial summary\n",
      "Hyperparameters:\n",
      "kernel_size: 2\n",
      "pool_size: 4\n",
      "block_1_conv_1___filters: 16\n",
      "block_1_dropout_1: 0.1\n",
      "block_2_conv_1___filters: 64\n",
      "block_2_dropout_1: 0.0\n",
      "block_3_conv_1___filters: 16\n",
      "block_3_dropout_1: 0.2\n",
      "head_dense_2__units: 128\n",
      "head_dropout_2__rate: 0.1\n",
      "Score: 2.295058250427246\n",
      "Trial summary\n",
      "Hyperparameters:\n",
      "kernel_size: 3\n",
      "pool_size: 3\n",
      "block_1_conv_1___filters: 32\n",
      "block_1_dropout_1: 0.30000000000000004\n",
      "block_2_conv_1___filters: 64\n",
      "block_2_dropout_1: 0.2\n",
      "block_3_conv_1___filters: 16\n",
      "block_3_dropout_1: 0.30000000000000004\n",
      "head_dense_2__units: 16\n",
      "head_dropout_2__rate: 0.30000000000000004\n",
      "Score: 2.2954249382019043\n",
      "Trial summary\n",
      "Hyperparameters:\n",
      "kernel_size: 3\n",
      "pool_size: 4\n",
      "block_1_conv_1___filters: 32\n",
      "block_1_dropout_1: 0.30000000000000004\n",
      "block_2_conv_1___filters: 32\n",
      "block_2_dropout_1: 0.1\n",
      "block_3_conv_1___filters: 16\n",
      "block_3_dropout_1: 0.1\n",
      "head_dense_2__units: 32\n",
      "head_dropout_2__rate: 0.4\n",
      "Score: 2.296624024709066\n",
      "Trial summary\n",
      "Hyperparameters:\n",
      "kernel_size: 2\n",
      "pool_size: 4\n",
      "block_1_conv_1___filters: 16\n",
      "block_1_dropout_1: 0.1\n",
      "block_2_conv_1___filters: 16\n",
      "block_2_dropout_1: 0.2\n",
      "block_3_conv_1___filters: 32\n",
      "block_3_dropout_1: 0.1\n",
      "head_dense_2__units: 256\n",
      "head_dropout_2__rate: 0.5\n",
      "Score: 2.2976131439208984\n"
     ]
    }
   ],
   "source": [
    "if config[\"custom\"][\"tune\"]:\n",
    "\n",
    "    tuner.results_summary()"
   ]
  },
  {
   "cell_type": "code",
   "execution_count": 46,
   "metadata": {},
   "outputs": [
    {
     "name": "stdout",
     "output_type": "stream",
     "text": [
      "Model: \"sequential\"\n",
      "_________________________________________________________________\n",
      " Layer (type)                Output Shape              Param #   \n",
      "=================================================================\n",
      " conv2d (Conv2D)             (None, 224, 224, 16)      448       \n",
      "                                                                 \n",
      " batch_normalization (BatchN  (None, 224, 224, 16)     64        \n",
      " ormalization)                                                   \n",
      "                                                                 \n",
      " dropout (Dropout)           (None, 224, 224, 16)      0         \n",
      "                                                                 \n",
      " activation (Activation)     (None, 224, 224, 16)      0         \n",
      "                                                                 \n",
      " max_pooling2d (MaxPooling2D  (None, 75, 75, 16)       0         \n",
      " )                                                               \n",
      "                                                                 \n",
      " conv2d_1 (Conv2D)           (None, 75, 75, 32)        4640      \n",
      "                                                                 \n",
      " batch_normalization_1 (Batc  (None, 75, 75, 32)       128       \n",
      " hNormalization)                                                 \n",
      "                                                                 \n",
      " dropout_1 (Dropout)         (None, 75, 75, 32)        0         \n",
      "                                                                 \n",
      " activation_1 (Activation)   (None, 75, 75, 32)        0         \n",
      "                                                                 \n",
      " max_pooling2d_1 (MaxPooling  (None, 25, 25, 32)       0         \n",
      " 2D)                                                             \n",
      "                                                                 \n",
      " conv2d_2 (Conv2D)           (None, 25, 25, 64)        18496     \n",
      "                                                                 \n",
      " batch_normalization_2 (Batc  (None, 25, 25, 64)       256       \n",
      " hNormalization)                                                 \n",
      "                                                                 \n",
      " dropout_2 (Dropout)         (None, 25, 25, 64)        0         \n",
      "                                                                 \n",
      " activation_2 (Activation)   (None, 25, 25, 64)        0         \n",
      "                                                                 \n",
      " max_pooling2d_2 (MaxPooling  (None, 9, 9, 64)         0         \n",
      " 2D)                                                             \n",
      "                                                                 \n",
      " flatten (Flatten)           (None, 5184)              0         \n",
      "                                                                 \n",
      " dense (Dense)               (None, 128)               663680    \n",
      "                                                                 \n",
      " dropout_3 (Dropout)         (None, 128)               0         \n",
      "                                                                 \n",
      " dense_1 (Dense)             (None, 10)                1290      \n",
      "                                                                 \n",
      "=================================================================\n",
      "Total params: 689,002\n",
      "Trainable params: 688,778\n",
      "Non-trainable params: 224\n",
      "_________________________________________________________________\n"
     ]
    }
   ],
   "source": [
    "if config[\"custom\"][\"tune\"]:\n",
    "\n",
    "    best_model.summary()"
   ]
  },
  {
   "cell_type": "code",
   "execution_count": 45,
   "metadata": {},
   "outputs": [
    {
     "name": "stderr",
     "output_type": "stream",
     "text": [
      "2022-02-03 16:02:19.936908: W tensorflow/python/util/util.cc:368] Sets are not currently considered sequences, but this may change in the future, so consider avoiding using them.\n",
      "WARNING:absl:Found untraced functions such as _jit_compiled_convolution_op, _jit_compiled_convolution_op, _jit_compiled_convolution_op while saving (showing 3 of 3). These functions will not be directly callable after loading.\n"
     ]
    },
    {
     "name": "stdout",
     "output_type": "stream",
     "text": [
      "INFO:tensorflow:Assets written to: ram://37707bbc-712f-4f4c-8b7a-c401230f1f3b/assets\n"
     ]
    },
    {
     "name": "stderr",
     "output_type": "stream",
     "text": [
      "INFO:tensorflow:Assets written to: ram://37707bbc-712f-4f4c-8b7a-c401230f1f3b/assets\n"
     ]
    }
   ],
   "source": [
    "if config[\"custom\"][\"tune\"]:\n",
    "\n",
    "    best_model = tuner.get_best_models()[0]\n",
    "    with open(\"data/custom_save.pkl\", \"wb\") as stream:\n",
    "        pickle.dump(best_model, stream)"
   ]
  },
  {
   "cell_type": "markdown",
   "metadata": {},
   "source": [
    "***\n",
    "### 4.1.2 Saved tuned model"
   ]
  },
  {
   "cell_type": "code",
   "execution_count": 61,
   "metadata": {},
   "outputs": [
    {
     "name": "stdout",
     "output_type": "stream",
     "text": [
      "Model: \"sequential\"\n",
      "_________________________________________________________________\n",
      " Layer (type)                Output Shape              Param #   \n",
      "=================================================================\n",
      " conv2d (Conv2D)             (None, 224, 224, 16)      448       \n",
      "                                                                 \n",
      " batch_normalization (BatchN  (None, 224, 224, 16)     64        \n",
      " ormalization)                                                   \n",
      "                                                                 \n",
      " dropout (Dropout)           (None, 224, 224, 16)      0         \n",
      "                                                                 \n",
      " activation (Activation)     (None, 224, 224, 16)      0         \n",
      "                                                                 \n",
      " max_pooling2d (MaxPooling2D  (None, 75, 75, 16)       0         \n",
      " )                                                               \n",
      "                                                                 \n",
      " conv2d_1 (Conv2D)           (None, 75, 75, 32)        4640      \n",
      "                                                                 \n",
      " batch_normalization_1 (Batc  (None, 75, 75, 32)       128       \n",
      " hNormalization)                                                 \n",
      "                                                                 \n",
      " dropout_1 (Dropout)         (None, 75, 75, 32)        0         \n",
      "                                                                 \n",
      " activation_1 (Activation)   (None, 75, 75, 32)        0         \n",
      "                                                                 \n",
      " max_pooling2d_1 (MaxPooling  (None, 25, 25, 32)       0         \n",
      " 2D)                                                             \n",
      "                                                                 \n",
      " conv2d_2 (Conv2D)           (None, 25, 25, 64)        18496     \n",
      "                                                                 \n",
      " batch_normalization_2 (Batc  (None, 25, 25, 64)       256       \n",
      " hNormalization)                                                 \n",
      "                                                                 \n",
      " dropout_2 (Dropout)         (None, 25, 25, 64)        0         \n",
      "                                                                 \n",
      " activation_2 (Activation)   (None, 25, 25, 64)        0         \n",
      "                                                                 \n",
      " max_pooling2d_2 (MaxPooling  (None, 9, 9, 64)         0         \n",
      " 2D)                                                             \n",
      "                                                                 \n",
      " flatten (Flatten)           (None, 5184)              0         \n",
      "                                                                 \n",
      " dense (Dense)               (None, 128)               663680    \n",
      "                                                                 \n",
      " dropout_3 (Dropout)         (None, 128)               0         \n",
      "                                                                 \n",
      " dense_1 (Dense)             (None, 10)                1290      \n",
      "                                                                 \n",
      "=================================================================\n",
      "Total params: 689,002\n",
      "Trainable params: 688,778\n",
      "Non-trainable params: 224\n",
      "_________________________________________________________________\n"
     ]
    }
   ],
   "source": [
    "if config[\"custom\"][\"saved\"]:\n",
    "\n",
    "    with open(\"data/custom_save.pkl\", \"rb\") as stream:\n",
    "        model = pickle.load(stream)\n",
    "\n",
    "    model.build(input_shape=(224, 224, 3))\n",
    "\n",
    "    model.compile(\n",
    "        optimizer=\"adam\",\n",
    "        loss=\"categorical_crossentropy\",\n",
    "        metrics=[\"categorical_accuracy\"]\n",
    "    )\n",
    "\n",
    "    model.summary()"
   ]
  },
  {
   "cell_type": "code",
   "execution_count": 62,
   "metadata": {},
   "outputs": [
    {
     "name": "stdout",
     "output_type": "stream",
     "text": [
      "WARNING:tensorflow:`period` argument is deprecated. Please use `save_freq` to specify the frequency in number of batches seen.\n"
     ]
    },
    {
     "name": "stderr",
     "output_type": "stream",
     "text": [
      "WARNING:tensorflow:`period` argument is deprecated. Please use `save_freq` to specify the frequency in number of batches seen.\n"
     ]
    },
    {
     "name": "stdout",
     "output_type": "stream",
     "text": [
      "Fit without aug\n",
      "Epoch 1/50\n",
      "21/21 [==============================] - 2s 73ms/step - loss: 1.2778 - categorical_accuracy: 0.5268 - val_loss: 2.0955 - val_categorical_accuracy: 0.2299\n",
      "Epoch 2/50\n",
      "21/21 [==============================] - 1s 68ms/step - loss: 1.2960 - categorical_accuracy: 0.4970 - val_loss: 2.2161 - val_categorical_accuracy: 0.1910\n",
      "Epoch 3/50\n",
      "21/21 [==============================] - 1s 65ms/step - loss: 1.1801 - categorical_accuracy: 0.5238 - val_loss: 2.0177 - val_categorical_accuracy: 0.2478\n",
      "Epoch 4/50\n",
      "21/21 [==============================] - 1s 71ms/step - loss: 1.1828 - categorical_accuracy: 0.5446 - val_loss: 2.0720 - val_categorical_accuracy: 0.2418\n",
      "Epoch 5/50\n",
      "21/21 [==============================] - 1s 64ms/step - loss: 1.1710 - categorical_accuracy: 0.5089 - val_loss: 2.3129 - val_categorical_accuracy: 0.2448\n",
      "Epoch 6/50\n",
      "21/21 [==============================] - 1s 65ms/step - loss: 1.1684 - categorical_accuracy: 0.5655 - val_loss: 2.3504 - val_categorical_accuracy: 0.2119\n",
      "Epoch 7/50\n",
      "21/21 [==============================] - 1s 69ms/step - loss: 1.1915 - categorical_accuracy: 0.5536 - val_loss: 2.0724 - val_categorical_accuracy: 0.2567\n",
      "Epoch 8/50\n",
      "21/21 [==============================] - 1s 67ms/step - loss: 1.1113 - categorical_accuracy: 0.5476 - val_loss: 2.0249 - val_categorical_accuracy: 0.2567\n",
      "Epoch 9/50\n",
      "21/21 [==============================] - 1s 69ms/step - loss: 1.0623 - categorical_accuracy: 0.5833 - val_loss: 2.0700 - val_categorical_accuracy: 0.2597\n",
      "Epoch 10/50\n",
      "21/21 [==============================] - 1s 67ms/step - loss: 1.1025 - categorical_accuracy: 0.5476 - val_loss: 2.1282 - val_categorical_accuracy: 0.2537\n",
      "Epoch 11/50\n",
      "21/21 [==============================] - 1s 69ms/step - loss: 0.9256 - categorical_accuracy: 0.6488 - val_loss: 2.1922 - val_categorical_accuracy: 0.2328\n",
      "Epoch 12/50\n",
      "21/21 [==============================] - 1s 68ms/step - loss: 1.0459 - categorical_accuracy: 0.5982 - val_loss: 2.2554 - val_categorical_accuracy: 0.2418\n",
      "Epoch 13/50\n",
      "21/21 [==============================] - 1s 66ms/step - loss: 1.0531 - categorical_accuracy: 0.5744 - val_loss: 2.3704 - val_categorical_accuracy: 0.2388\n",
      "Epoch 14/50\n",
      "21/21 [==============================] - 1s 68ms/step - loss: 1.0215 - categorical_accuracy: 0.6071 - val_loss: 2.2132 - val_categorical_accuracy: 0.2627\n",
      "Epoch 15/50\n",
      "21/21 [==============================] - 1s 69ms/step - loss: 0.9728 - categorical_accuracy: 0.6190 - val_loss: 2.3489 - val_categorical_accuracy: 0.2448\n",
      "Epoch 16/50\n",
      "21/21 [==============================] - 1s 66ms/step - loss: 0.9350 - categorical_accuracy: 0.6280 - val_loss: 2.1632 - val_categorical_accuracy: 0.3104\n",
      "Epoch 17/50\n",
      "21/21 [==============================] - 1s 66ms/step - loss: 1.0078 - categorical_accuracy: 0.5893 - val_loss: 2.2210 - val_categorical_accuracy: 0.2597\n",
      "Epoch 18/50\n",
      "21/21 [==============================] - 1s 66ms/step - loss: 0.9449 - categorical_accuracy: 0.6310 - val_loss: 2.1977 - val_categorical_accuracy: 0.3015\n",
      "Epoch 19/50\n",
      "21/21 [==============================] - 2s 73ms/step - loss: 0.9174 - categorical_accuracy: 0.6220 - val_loss: 2.3487 - val_categorical_accuracy: 0.2567\n",
      "Epoch 20/50\n",
      "21/21 [==============================] - 1s 67ms/step - loss: 1.0266 - categorical_accuracy: 0.6071 - val_loss: 2.3426 - val_categorical_accuracy: 0.2269\n",
      "Epoch 21/50\n",
      "21/21 [==============================] - 1s 70ms/step - loss: 1.0642 - categorical_accuracy: 0.5804 - val_loss: 2.3425 - val_categorical_accuracy: 0.2657\n",
      "Epoch 22/50\n",
      "21/21 [==============================] - 1s 69ms/step - loss: 1.0696 - categorical_accuracy: 0.5506 - val_loss: 2.2549 - val_categorical_accuracy: 0.2627\n",
      "Epoch 23/50\n",
      "21/21 [==============================] - 1s 71ms/step - loss: 0.9642 - categorical_accuracy: 0.6250 - val_loss: 2.1789 - val_categorical_accuracy: 0.2746\n",
      "Epoch 24/50\n",
      "21/21 [==============================] - 1s 70ms/step - loss: 0.9663 - categorical_accuracy: 0.6280 - val_loss: 2.0363 - val_categorical_accuracy: 0.3045\n",
      "Epoch 25/50\n",
      "21/21 [==============================] - 1s 68ms/step - loss: 0.9868 - categorical_accuracy: 0.5714 - val_loss: 2.0384 - val_categorical_accuracy: 0.3075\n",
      "Epoch 26/50\n",
      "21/21 [==============================] - 1s 67ms/step - loss: 0.9979 - categorical_accuracy: 0.5952 - val_loss: 2.0544 - val_categorical_accuracy: 0.2836\n",
      "Epoch 27/50\n",
      "21/21 [==============================] - 1s 71ms/step - loss: 0.9199 - categorical_accuracy: 0.6131 - val_loss: 2.3140 - val_categorical_accuracy: 0.3015\n",
      "Epoch 28/50\n",
      "21/21 [==============================] - 1s 70ms/step - loss: 0.8922 - categorical_accuracy: 0.6071 - val_loss: 2.5877 - val_categorical_accuracy: 0.2716\n",
      "Epoch 29/50\n",
      "21/21 [==============================] - 1s 67ms/step - loss: 0.8793 - categorical_accuracy: 0.6518 - val_loss: 2.7024 - val_categorical_accuracy: 0.2090\n",
      "Epoch 30/50\n",
      "21/21 [==============================] - 1s 69ms/step - loss: 0.8725 - categorical_accuracy: 0.6429 - val_loss: 2.4571 - val_categorical_accuracy: 0.2507\n",
      "Epoch 31/50\n",
      "21/21 [==============================] - 1s 67ms/step - loss: 0.9567 - categorical_accuracy: 0.6071 - val_loss: 2.1382 - val_categorical_accuracy: 0.3224\n",
      "Epoch 32/50\n",
      "21/21 [==============================] - 1s 66ms/step - loss: 0.9146 - categorical_accuracy: 0.6161 - val_loss: 2.5326 - val_categorical_accuracy: 0.2925\n",
      "Epoch 33/50\n",
      "21/21 [==============================] - 1s 67ms/step - loss: 0.7958 - categorical_accuracy: 0.6607 - val_loss: 2.5475 - val_categorical_accuracy: 0.2567\n",
      "Epoch 34/50\n",
      "21/21 [==============================] - 1s 68ms/step - loss: 0.8385 - categorical_accuracy: 0.6488 - val_loss: 2.4741 - val_categorical_accuracy: 0.2985\n",
      "Epoch 35/50\n",
      "21/21 [==============================] - 1s 68ms/step - loss: 0.8693 - categorical_accuracy: 0.6488 - val_loss: 2.1919 - val_categorical_accuracy: 0.3164\n",
      "Epoch 36/50\n",
      "21/21 [==============================] - 1s 68ms/step - loss: 0.8458 - categorical_accuracy: 0.6607 - val_loss: 2.2579 - val_categorical_accuracy: 0.3164\n",
      "Epoch 37/50\n",
      "21/21 [==============================] - 1s 70ms/step - loss: 0.7524 - categorical_accuracy: 0.6577 - val_loss: 2.4853 - val_categorical_accuracy: 0.3075\n",
      "Epoch 38/50\n",
      "21/21 [==============================] - 1s 71ms/step - loss: 0.8208 - categorical_accuracy: 0.6429 - val_loss: 2.5046 - val_categorical_accuracy: 0.2836\n",
      "Epoch 39/50\n",
      "21/21 [==============================] - 1s 67ms/step - loss: 0.7376 - categorical_accuracy: 0.6935 - val_loss: 2.4386 - val_categorical_accuracy: 0.2896\n",
      "Epoch 40/50\n",
      "21/21 [==============================] - 1s 66ms/step - loss: 0.8135 - categorical_accuracy: 0.6756 - val_loss: 2.3179 - val_categorical_accuracy: 0.3134\n",
      "Epoch 41/50\n",
      "21/21 [==============================] - 1s 67ms/step - loss: 0.9255 - categorical_accuracy: 0.6280 - val_loss: 2.2850 - val_categorical_accuracy: 0.3134\n",
      "Epoch 42/50\n",
      "21/21 [==============================] - 1s 66ms/step - loss: 0.8701 - categorical_accuracy: 0.6607 - val_loss: 2.3763 - val_categorical_accuracy: 0.2716\n",
      "Epoch 43/50\n",
      "21/21 [==============================] - 1s 66ms/step - loss: 0.8210 - categorical_accuracy: 0.6786 - val_loss: 2.4370 - val_categorical_accuracy: 0.2687\n",
      "Epoch 44/50\n",
      "21/21 [==============================] - 1s 64ms/step - loss: 0.8692 - categorical_accuracy: 0.6548 - val_loss: 2.7669 - val_categorical_accuracy: 0.2597\n",
      "Epoch 45/50\n",
      "21/21 [==============================] - 1s 67ms/step - loss: 0.8539 - categorical_accuracy: 0.6458 - val_loss: 2.9101 - val_categorical_accuracy: 0.2388\n",
      "Epoch 46/50\n",
      "21/21 [==============================] - 1s 67ms/step - loss: 0.8631 - categorical_accuracy: 0.6310 - val_loss: 2.4891 - val_categorical_accuracy: 0.2597\n",
      "Epoch 47/50\n",
      "21/21 [==============================] - 1s 67ms/step - loss: 0.7918 - categorical_accuracy: 0.6577 - val_loss: 2.7173 - val_categorical_accuracy: 0.2597\n",
      "Epoch 48/50\n",
      "21/21 [==============================] - 1s 69ms/step - loss: 0.7628 - categorical_accuracy: 0.6607 - val_loss: 2.7705 - val_categorical_accuracy: 0.2657\n",
      "Epoch 49/50\n",
      "21/21 [==============================] - 1s 65ms/step - loss: 0.7445 - categorical_accuracy: 0.6845 - val_loss: 2.4751 - val_categorical_accuracy: 0.2776\n",
      "Epoch 50/50\n",
      "21/21 [==============================] - 1s 65ms/step - loss: 0.7546 - categorical_accuracy: 0.6845 - val_loss: 2.4957 - val_categorical_accuracy: 0.3075\n"
     ]
    }
   ],
   "source": [
    "if config[\"custom\"][\"saved\"]:\n",
    "\n",
    "    checkpoint = ModelCheckpoint(\n",
    "        './base.model',\n",
    "        monitor='val_loss',\n",
    "        verbose=1,\n",
    "        save_best_only=True,\n",
    "        mode='min',\n",
    "        save_weights_only=False,\n",
    "        period=1\n",
    "    )\n",
    "\n",
    "    early_stopping = EarlyStopping(\n",
    "        min_delta=0.001,\n",
    "        patience=5,\n",
    "        restore_best_weights=True\n",
    "    )\n",
    "\n",
    "    tensorboard = TensorBoard(\n",
    "        log_dir=\"./logs\",\n",
    "        histogram_freq=0,\n",
    "        write_graph=True,\n",
    "        write_images=False\n",
    "    )\n",
    "\n",
    "    csv_logger = CSVLogger(\n",
    "        filename=\"training_csv.log\",\n",
    "        separator=\",\",\n",
    "        append=False\n",
    "    )\n",
    "\n",
    "    reduce = ReduceLROnPlateau(\n",
    "        monitor='val_loss',\n",
    "        factor=0.1,\n",
    "        patience=3,\n",
    "        verbose=1, \n",
    "        mode='auto'\n",
    "    )\n",
    "\n",
    "    if not config[\"data_augmentation\"]:\n",
    "        print(\"Fit without aug\")\n",
    "        history = model.fit(\n",
    "            ds_train,\n",
    "            validation_data=ds_valid,\n",
    "            epochs=50,\n",
    "            workers=8,\n",
    "            # callbacks=[early_stopping],\n",
    "            # verbose=0\n",
    "        )\n",
    "    else:\n",
    "        print(\"Fit with aug\")\n",
    "        history = model.fit_generator(\n",
    "            train_aug,\n",
    "            validation_data=val_aug,\n",
    "            epochs=1,\n",
    "            steps_per_epoch=100,\n",
    "            workers=8\n",
    "            # callbacks=[early_stopping]\n",
    "            # verbose=0\n",
    "        )"
   ]
  },
  {
   "cell_type": "markdown",
   "metadata": {},
   "source": [
    "***\n",
    "## 3.3 Results"
   ]
  },
  {
   "cell_type": "code",
   "execution_count": 63,
   "metadata": {},
   "outputs": [
    {
     "data": {
      "image/png": "[encoded data removed]",
      "text/plain": [
       "<Figure size 1440x720 with 2 Axes>"
      ]
     },
     "metadata": {
      "needs_background": "light"
     },
     "output_type": "display_data"
    }
   ],
   "source": [
    "if config[\"custom\"][\"saved\"]:\n",
    "\n",
    "    history_df = pd.DataFrame(data=history.history)\n",
    "    visualize_history(history_df)"
   ]
  },
  {
   "cell_type": "markdown",
   "metadata": {},
   "source": [
    "***\n",
    "# 5 Transfer learning CNN"
   ]
  },
  {
   "cell_type": "markdown",
   "metadata": {},
   "source": [
    "## 5.1 VGG16"
   ]
  },
  {
   "cell_type": "code",
   "execution_count": 64,
   "metadata": {},
   "outputs": [],
   "source": [
    "if config[\"transfer\"][\"vgg16\"]:\n",
    "\n",
    "    vgg16 = VGG16(\n",
    "        include_top=False,\n",
    "        input_shape=(224, 224, 3),\n",
    "        weights=\"imagenet\"\n",
    "    )\n",
    "\n",
    "    for layer in vgg16.layers:\n",
    "        layer.trainable = False"
   ]
  },
  {
   "cell_type": "code",
   "execution_count": 65,
   "metadata": {},
   "outputs": [],
   "source": [
    "if config[\"transfer\"][\"vgg16\"]:\n",
    "\n",
    "    model_vgg16 = keras.Sequential([\n",
    "        # >>> base <<<\n",
    "        vgg16,\n",
    "\n",
    "        # >>> head <<<\n",
    "        layers.GlobalAveragePooling2D(),\n",
    "\n",
    "        layers.Dropout(rate=0.5),\n",
    "        layers.Dense(units=fre_df.shape[0], activation=\"softmax\")\n",
    "    ])\n",
    "\n",
    "    model_vgg16.summary()"
   ]
  },
  {
   "cell_type": "code",
   "execution_count": 66,
   "metadata": {},
   "outputs": [],
   "source": [
    "if config[\"transfer\"][\"vgg16\"]:\n",
    "\n",
    "    model_vgg16.compile(\n",
    "        optimizer=\"adam\",\n",
    "        loss=\"categorical_crossentropy\",\n",
    "        metrics=[\"categorical_accuracy\"]\n",
    "    )\n",
    "\n",
    "    early_stopping = EarlyStopping(\n",
    "        min_delta=0.001,\n",
    "        patience=5,\n",
    "        restore_best_weights=True\n",
    "    )\n",
    "\n",
    "    if not config[\"data_augmentation\"]:\n",
    "        print(\"Fit without aug\")\n",
    "        history_vgg16 = model_vgg16.fit(\n",
    "            ds_train,\n",
    "            validation_data=ds_valid,\n",
    "            epochs=20,\n",
    "            workers=8,\n",
    "            # callbacks=[early_stopping],\n",
    "            # verbose=0\n",
    "        )\n",
    "    else:\n",
    "        print(\"Fit with aug\")\n",
    "        history_vgg16 = model_vgg16.fit_generator(\n",
    "            train_aug,\n",
    "            validation_data=val_aug,\n",
    "            epochs=20,\n",
    "            steps_per_epoch=100,\n",
    "            workers=8\n",
    "            # callbacks=[early_stopping]\n",
    "            # verbose=0\n",
    "        )"
   ]
  },
  {
   "cell_type": "code",
   "execution_count": 67,
   "metadata": {},
   "outputs": [],
   "source": [
    "if config[\"transfer\"][\"vgg16\"]:\n",
    "\n",
    "    history_vgg16_df = pd.DataFrame(data=history_vgg16.history)\n",
    "    visualize_history(history_vgg16_df)"
   ]
  },
  {
   "cell_type": "markdown",
   "metadata": {},
   "source": [
    "***\n",
    "### 5.1.1 Result without aug"
   ]
  },
  {
   "cell_type": "markdown",
   "metadata": {},
   "source": [
    "<img src=\"plots/transfer_vgg16_without_aug.png\" style=\"background-color:white\">"
   ]
  },
  {
   "cell_type": "markdown",
   "metadata": {},
   "source": [
    "***\n",
    "### 5.1.2 Result with aug"
   ]
  },
  {
   "cell_type": "markdown",
   "metadata": {},
   "source": [
    "<img src=\"plots/transfer_vgg16_with_aug.png\" style=\"background-color:white\">"
   ]
  },
  {
   "cell_type": "markdown",
   "metadata": {},
   "source": [
    "***\n",
    "## 5.2 Xception"
   ]
  },
  {
   "cell_type": "code",
   "execution_count": 68,
   "metadata": {},
   "outputs": [],
   "source": [
    "if config[\"transfer\"][\"xception\"]:\n",
    "\n",
    "    xception = Xception(\n",
    "        weights=\"imagenet\",\n",
    "        include_top=False,\n",
    "        pooling=\"avg\",\n",
    "        input_shape=(224, 224, 3)\n",
    "    )\n",
    "\n",
    "    for layer in xception.layers:\n",
    "        layer.trainable = False"
   ]
  },
  {
   "cell_type": "code",
   "execution_count": 69,
   "metadata": {},
   "outputs": [],
   "source": [
    "if config[\"transfer\"][\"xception\"]:\n",
    "\n",
    "    model_xception = keras.Sequential([\n",
    "        # >>> base <<<\n",
    "        xception,\n",
    "\n",
    "        # >>> head <<<\n",
    "        layers.Dense(units=128, activation=\"relu\"),\n",
    "        layers.Dropout(rate=0.2),\n",
    "        layers.Dense(units=fre_df.shape[0], activation=\"softmax\")\n",
    "    ])\n",
    "\n",
    "    model_xception.summary()"
   ]
  },
  {
   "cell_type": "code",
   "execution_count": 70,
   "metadata": {},
   "outputs": [],
   "source": [
    "if config[\"transfer\"][\"xception\"]:\n",
    "\n",
    "    model_xception.compile(\n",
    "        optimizer=\"adam\",\n",
    "        loss=\"categorical_crossentropy\",\n",
    "        metrics=[\"categorical_accuracy\"]\n",
    "    )\n",
    "\n",
    "    filepath = './data/saves/xception.hdf5'\n",
    "    checkpoint = ModelCheckpoint(\n",
    "        filepath=filepath,\n",
    "        monitor='val_loss',\n",
    "        verbose=1,\n",
    "        save_best_only=True,\n",
    "        mode='min',\n",
    "        save_weights_only=False,\n",
    "        period=1\n",
    "    )\n",
    "\n",
    "    early_stopping = EarlyStopping(\n",
    "        min_delta=0.001,\n",
    "        patience=5,\n",
    "        restore_best_weights=True\n",
    "    )\n",
    "\n",
    "    if not config[\"data_augmentation\"]:\n",
    "        print(\"Fit without aug\")\n",
    "        history_xception = model_xception.fit(\n",
    "            ds_train,\n",
    "            validation_data=ds_valid,\n",
    "            epochs=50,\n",
    "            workers=8,\n",
    "            callbacks=[early_stopping, checkpoint],\n",
    "            # verbose=0\n",
    "        )\n",
    "    else:\n",
    "        print(\"Fit with aug\")\n",
    "        history_xception = model_xception.fit_generator(\n",
    "            train_aug,\n",
    "            validation_data=val_aug,\n",
    "            epochs=50,\n",
    "            steps_per_epoch=100,\n",
    "            workers=8\n",
    "            # callbacks=[early_stopping]\n",
    "            # verbose=0\n",
    "        )"
   ]
  },
  {
   "cell_type": "code",
   "execution_count": 71,
   "metadata": {},
   "outputs": [],
   "source": [
    "if config[\"transfer\"][\"xception\"]:\n",
    "\n",
    "    history_xception_df = pd.DataFrame(data=history_xception.history)\n",
    "    visualize_history(history_xception_df)"
   ]
  },
  {
   "cell_type": "markdown",
   "metadata": {},
   "source": [
    "***\n",
    "### 5.2.1 Result without aug"
   ]
  },
  {
   "cell_type": "markdown",
   "metadata": {},
   "source": [
    "<img src=\"plots/transfer_xception_without_aug.png\" style=\"background-color:white\">"
   ]
  },
  {
   "cell_type": "markdown",
   "metadata": {},
   "source": [
    "***\n",
    "### 5.2.2 Result with aug"
   ]
  },
  {
   "cell_type": "markdown",
   "metadata": {},
   "source": [
    "<img src=\"plots/transfer_xception_with_aug.png\" style=\"background-color:white\">"
   ]
  }
 ],
 "metadata": {
  "interpreter": {
   "hash": "586ad1ed5c97141e2437e681efbf1ec0adcd17d830cf5af2ca3d2819e743e158"
  },
  "kernelspec": {
   "display_name": "Python 3.8.12 64-bit ('base': conda)",
   "language": "python",
   "name": "python3"
  },
  "language_info": {
   "codemirror_mode": {
    "name": "ipython",
    "version": 3
   },
   "file_extension": ".py",
   "mimetype": "text/x-python",
   "name": "python",
   "nbconvert_exporter": "python",
   "pygments_lexer": "ipython3",
   "version": "3.8.12"
  },
  "orig_nbformat": 4
 },
 "nbformat": 4,
 "nbformat_minor": 2
}
